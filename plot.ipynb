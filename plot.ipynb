{
 "cells": [
  {
   "cell_type": "code",
   "execution_count": null,
   "id": "f6487867-dedd-488c-b30e-b9d26dc6f50b",
   "metadata": {},
   "outputs": [],
   "source": [
    "from benchmarks import PressureVessel,Stybtang, Schaffer2, Camel6, Ackley, Sphere, Schwefel, Schwefel2, XinSheYangN2, Rosenbrock, Griewank, Levy13, Rastrigin, Bukin6, Easom, Camel3, Shubert, Eggholder, Crossit, Michalewicz, Holdertable"
   ]
  },
  {
   "cell_type": "code",
   "execution_count": null,
   "id": "fdd0a680-8621-4fb1-9a39-7ffd3f02f791",
   "metadata": {
    "tags": []
   },
   "outputs": [],
   "source": [
    "benchmarks = [Griewank, Easom, Camel3, Eggholder, Sphere, Ackley]\n",
    "benchmarks = [Sphere(lower=-5, upper = 5)]\n",
    "for benchmark in benchmarks:\n",
    "    func = benchmark\n",
    "    print(func.get_optimum())\n",
    "    func.plot(scale=0.30, save_path=\"plots\", show=False)"
   ]
  },
  {
   "cell_type": "code",
   "execution_count": null,
   "id": "d1422011-f5e9-4c60-88d2-617d90756c6a",
   "metadata": {},
   "outputs": [],
   "source": [
    "benchmarks = [Rosenbrock, Levy13, Rastrigin, Bukin6, Camel3, Shubert, Crossit, Michalewicz, Holdertable]\n",
    "# benchmarks = [Levy13]\n",
    "for benchmark in benchmarks:\n",
    "    func = benchmark()\n",
    "    print(func.get_optimum())\n",
    "    func.plot(scale=0.30, save_path=\"plots\", show=False)"
   ]
  },
  {
   "cell_type": "code",
   "execution_count": null,
   "id": "57304343-9361-4bb4-8e7a-7d79d5157aa7",
   "metadata": {},
   "outputs": [],
   "source": []
  }
 ],
 "metadata": {
  "kernelspec": {
   "display_name": "Python 3",
   "language": "python",
   "name": "python3"
  },
  "language_info": {
   "codemirror_mode": {
    "name": "ipython",
    "version": 3
   },
   "file_extension": ".py",
   "mimetype": "text/x-python",
   "name": "python",
   "nbconvert_exporter": "python",
   "pygments_lexer": "ipython3",
   "version": "3.8.9"
  }
 },
 "nbformat": 4,
 "nbformat_minor": 5
}
